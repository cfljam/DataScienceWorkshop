{
 "cells": [
  {
   "cell_type": "markdown",
   "metadata": {},
   "source": [
    "Javascript (JS) is the programming language of the web. Because of this role there are a number of high quality ploting libraries with an interactive focus written in JS. One of the most powerful of these libraries is [D3](https://d3js.org) (Data-driven Documents). The learning curve can be quite rough so we will instead use [D3plus](http://d3plus.org) which simplies some of the work. In order to plot JS in jupyter we can use IFrames. First we set up a function to do this."
   ]
  },
  {
   "cell_type": "code",
   "execution_count": 20,
   "metadata": {
    "collapsed": true
   },
   "outputs": [],
   "source": [
    "from IPython.display import IFrame \n",
    "\n",
    "count=0\n",
    "def serve_html(s,w,h):\n",
    "    import os\n",
    "    global count\n",
    "    count+=1\n",
    "    fn= '__tmp'+str(os.getpid())+'_'+str(count)+'.html'\n",
    "    with open(fn,'w') as f:\n",
    "        f.write(s)\n",
    "    return IFrame('files/'+fn,w,h)\n",
    "\n",
    "def f1(w=800,h=400):\n",
    "    d={\n",
    "       'width'      :w,\n",
    "       'height'     :h\n",
    "       }\n",
    "    with open('f1.template') as f:\n",
    "        s=f.read()        \n",
    "    return serve_html(s,w+30,h+30)"
   ]
  },
  {
   "cell_type": "markdown",
   "metadata": {},
   "source": [
    "The above function f1, takes an object called \"f1.template\" and serves it. Now we need to plot something in JS and save it as f1.template. Here we use an example from the D3plus [examples](http://d3plus.org/examples/basic/9034389/)"
   ]
  },
  {
   "cell_type": "code",
   "execution_count": 21,
   "metadata": {},
   "outputs": [
    {
     "name": "stdout",
     "output_type": "stream",
     "text": [
      "Overwriting f1.template\n"
     ]
    }
   ],
   "source": [
    "%%writefile f1.template\n",
    "<!doctype html>\n",
    "<meta charset=\"utf-8\">\n",
    "\n",
    "<!-- load D3js -->\n",
    "<script src=\"js/d3.js\"></script>\n",
    "//<script src=\"//d3plus.org/js/d3.js\"></script>\n",
    "\n",
    "<!-- load D3plus after D3js -->\n",
    "<script src=\"js/d3plus.js\"></script>\n",
    "//<script src=\"//d3plus.org/js/d3plus.js\"></script>\n",
    "\n",
    "<!-- create container element for visualization -->\n",
    "<div id=\"viz\"></div>\n",
    "\n",
    "<script>\n",
    "  // create list of node connections\n",
    "  var connections = [\n",
    "    {\"source\": \"alpha\", \"target\": \"beta\"},\n",
    "    {\"source\": \"alpha\", \"target\": \"gamma\"},\n",
    "    {\"source\": \"beta\", \"target\": \"delta\"},\n",
    "    {\"source\": \"beta\", \"target\": \"epsilon\"},\n",
    "    {\"source\": \"zeta\", \"target\": \"gamma\"},\n",
    "    {\"source\": \"theta\", \"target\": \"gamma\"},\n",
    "    {\"source\": \"eta\", \"target\": \"gamma\"}\n",
    "  ]\n",
    "  // instantiate d3plus\n",
    "  var visualization = d3plus.viz()\n",
    "    .container(\"#viz\")  // container DIV to hold the visualization\n",
    "    .type(\"rings\")      // visualization type\n",
    "    .edges(connections) // list of node connections\n",
    "    .focus(\"alpha\")     // ID of the initial center node\n",
    "    .draw()             // finally, draw the visualization!\n",
    "</script>"
   ]
  },
  {
   "cell_type": "markdown",
   "metadata": {},
   "source": [
    "Now let's plot the figure specifying the height and width."
   ]
  },
  {
   "cell_type": "code",
   "execution_count": 22,
   "metadata": {},
   "outputs": [
    {
     "data": {
      "text/html": [
       "\n",
       "        <iframe\n",
       "            width=\"830\"\n",
       "            height=\"630\"\n",
       "            src=\"files/__tmp12660_1.html\"\n",
       "            frameborder=\"0\"\n",
       "            allowfullscreen\n",
       "        ></iframe>\n",
       "        "
      ],
      "text/plain": [
       "<IPython.lib.display.IFrame at 0x5fb47b8>"
      ]
     },
     "execution_count": 22,
     "metadata": {},
     "output_type": "execute_result"
    }
   ],
   "source": [
    "f1(w=800,h=600)"
   ]
  },
  {
   "cell_type": "markdown",
   "metadata": {},
   "source": [
    "Now we can try it on some real data. This example uses a dataset showing which biometricians work with which teams with a rough measure of the strength of this relationship. As the data is stored in a csv we need to convert it to the json format that we'll use in code. Again we write a function to make this easier if we need to repeat this process."
   ]
  },
  {
   "cell_type": "code",
   "execution_count": 23,
   "metadata": {
    "collapsed": true
   },
   "outputs": [],
   "source": [
    "import sys, getopt\n",
    "import csv\n",
    "import json\n",
    "def read_csv(file, json_file, format):\n",
    "    csv_rows = []\n",
    "    with open(file) as csvfile:\n",
    "        reader = csv.DictReader(csvfile)\n",
    "        title = reader.fieldnames\n",
    "        for row in reader:\n",
    "            csv_rows.extend([{title[i]:row[title[i]] for i in range(len(title))}])\n",
    "        write_json(csv_rows, json_file, format)\n",
    "\n",
    "#Convert csv data into json and write it\n",
    "def write_json(data, json_file, format):\n",
    "    with open(json_file, \"w\") as f:\n",
    "        if format == \"pretty\":\n",
    "            f.write(json.dumps(data, sort_keys=False, indent=4, separators=(',', ': '),encoding=\"utf-8\",ensure_ascii=False))\n",
    "        else:\n",
    "            f.write(json.dumps(data))"
   ]
  },
  {
   "cell_type": "markdown",
   "metadata": {},
   "source": [
    "Read in the csv from the data subfolder and save the json file to the same directory. Note that we nest the visualisation within the d3.json function."
   ]
  },
  {
   "cell_type": "code",
   "execution_count": 24,
   "metadata": {
    "collapsed": true
   },
   "outputs": [],
   "source": [
    "read_csv(\"data/Biometrics_work.csv\",\"data/Biometrics_work.json\",format=' ')"
   ]
  },
  {
   "cell_type": "code",
   "execution_count": 25,
   "metadata": {},
   "outputs": [
    {
     "name": "stdout",
     "output_type": "stream",
     "text": [
      "Overwriting f1.template\n"
     ]
    }
   ],
   "source": [
    "%%writefile f1.template\n",
    "<!doctype html>\n",
    "<meta charset=\"utf-8\">\n",
    "\n",
    "\n",
    "<script src=\"js/jquery.min.js\"></script>\n",
    "<!-- load D3js -->\n",
    "<script src=\"js/d3.js\"></script>\n",
    "//<script src=\"//d3plus.org/js/d3.js\"></script>\n",
    "\n",
    "<!-- load D3plus after D3js -->\n",
    "<script src=\"js/d3plus.js\"></script>\n",
    "//<script src=\"//d3plus.org/js/d3plus.js\"></script>\n",
    "\n",
    "<!-- create container element for visualization -->\n",
    "<div id=\"viz\"></div>\n",
    "\n",
    "<script>\n",
    "//read in json\n",
    "d3.json(\"data/Biometrics_work.json\", function(connections){\n",
    "\n",
    "    \n",
    "  // instantiate d3plus\n",
    "  var visualization = d3plus.viz()\n",
    "    .container(\"#viz\")  // container DIV to hold the visualization\n",
    "    .type(\"rings\")      // visualization type\n",
    "    .edges({\"value\":connections,\"size\":\"strength\"}) // list of node connections\n",
    "    .focus(\"Biometrics\")     // ID of the initial center node\n",
    "    .draw()             // finally, draw the visualization!\n",
    "  })\n",
    "</script>"
   ]
  },
  {
   "cell_type": "code",
   "execution_count": 26,
   "metadata": {
    "scrolled": false
   },
   "outputs": [
    {
     "data": {
      "text/html": [
       "\n",
       "        <iframe\n",
       "            width=\"1230\"\n",
       "            height=\"1030\"\n",
       "            src=\"files/__tmp12660_2.html\"\n",
       "            frameborder=\"0\"\n",
       "            allowfullscreen\n",
       "        ></iframe>\n",
       "        "
      ],
      "text/plain": [
       "<IPython.lib.display.IFrame at 0x5fc6160>"
      ]
     },
     "execution_count": 26,
     "metadata": {},
     "output_type": "execute_result"
    }
   ],
   "source": [
    "f1(w=1200,h=1000)"
   ]
  },
  {
   "cell_type": "markdown",
   "metadata": {},
   "source": [
    "we could also plot the whole network."
   ]
  },
  {
   "cell_type": "code",
   "execution_count": 27,
   "metadata": {},
   "outputs": [
    {
     "name": "stdout",
     "output_type": "stream",
     "text": [
      "Overwriting f1.template\n"
     ]
    }
   ],
   "source": [
    "%%writefile f1.template\n",
    "<!doctype html>\n",
    "<meta charset=\"utf-8\">\n",
    "\n",
    "\n",
    "//<script src=\"js/jquery.min.js\"></script>\n",
    "<!-- load D3js -->\n",
    "<script src=\"js/d3.js\"></script>\n",
    "//<script src=\"//d3plus.org/js/d3.js\"></script>\n",
    "\n",
    "<!-- load D3plus after D3js -->\n",
    "<script src=\"js/d3plus.js\"></script>\n",
    "//<script src=\"//d3plus.org/js/d3plus.js\"></script>\n",
    "\n",
    "<!-- create container element for visualization -->\n",
    "<div id=\"viz\"></div>\n",
    "\n",
    "<script>\n",
    "//read in json\n",
    "d3.json(\"data/Biometrics_work.json\", function(connections){\n",
    "\n",
    "    \n",
    "  // instantiate d3plus\n",
    "  var visualization = d3plus.viz()\n",
    "    .container(\"#viz\")  // container DIV to hold the visualization\n",
    "    .type(\"network\")      // visualization type\n",
    "    .edges(connections) // list of node connections\n",
    "    .draw()             // finally, draw the visualization!\n",
    "  })\n",
    "</script>"
   ]
  },
  {
   "cell_type": "code",
   "execution_count": 28,
   "metadata": {
    "scrolled": false
   },
   "outputs": [
    {
     "data": {
      "text/html": [
       "\n",
       "        <iframe\n",
       "            width=\"1030\"\n",
       "            height=\"830\"\n",
       "            src=\"files/__tmp12660_3.html\"\n",
       "            frameborder=\"0\"\n",
       "            allowfullscreen\n",
       "        ></iframe>\n",
       "        "
      ],
      "text/plain": [
       "<IPython.lib.display.IFrame at 0x5fc6240>"
      ]
     },
     "execution_count": 28,
     "metadata": {},
     "output_type": "execute_result"
    }
   ],
   "source": [
    "f1(w=1000,h=800)"
   ]
  },
  {
   "cell_type": "markdown",
   "metadata": {},
   "source": [
    "Another intersting library built on top of D3 is [Vega](https://vega.github.io/vega/). An advanced example from the vega [website](https://vega.github.io/vega/examples/global-development/) is given below. While it takes some work in terms of coding the result shows the countries movement over time without cluttering the figure."
   ]
  },
  {
   "cell_type": "code",
   "execution_count": 29,
   "metadata": {},
   "outputs": [
    {
     "name": "stdout",
     "output_type": "stream",
     "text": [
      "Overwriting f1.template\n"
     ]
    }
   ],
   "source": [
    "%%writefile f1.template\n",
    "<!DOCTYPE HTML>\n",
    "<html>\n",
    "  <head>\n",
    "    <title>Vega PreFacet Test</title>\n",
    "    <script src=\"js/d3.v4.min.js\"></script>\n",
    "    <script src=\"js/vega-core.min.js\"></script>\n",
    "    <style>\n",
    "      body { margin: 10px; font: 14px Helvetica Neue; }\n",
    "      canvas, svg { border: 1px solid #ccc; }\n",
    "    </style>\n",
    "  </head>\n",
    "  <body>\n",
    "    <div id=\"view\"></div>\n",
    "    <script>\n",
    "var runtimeSpec = vega.parse({\n",
    "  \"$schema\": \"js/vega-schema.json\",\n",
    "  \"width\": 800,\n",
    "  \"height\": 600,\n",
    "  \"padding\": 5,\n",
    "\n",
    "  \"data\": [\n",
    "    {\n",
    "      \"name\": \"gapminder\",\n",
    "      \"url\": \"data/gapminder.json\"\n",
    "    },\n",
    "    {\n",
    "      \"name\": \"clusters\",\n",
    "      \"values\": [\n",
    "        {\"id\": 0, \"name\": \"South Asia\"},\n",
    "        {\"id\": 1, \"name\": \"Europe & Central Asia\"},\n",
    "        {\"id\": 2, \"name\": \"Sub-Saharan Africa\"},\n",
    "        {\"id\": 3, \"name\": \"America\"},\n",
    "        {\"id\": 4, \"name\": \"East Asia & Pacific\"},\n",
    "        {\"id\": 5, \"name\": \"Middle East & North Africa\"}\n",
    "      ]\n",
    "    },\n",
    "    {\n",
    "      \"name\": \"country_timeline\",\n",
    "      \"source\": \"gapminder\",\n",
    "      \"transform\": [\n",
    "        {\"type\": \"filter\", \"expr\": \"timeline && datum.country == timeline.country\"},\n",
    "        {\"type\": \"collect\", \"sort\": {\"field\": \"year\"}}\n",
    "      ]\n",
    "    },\n",
    "    {\n",
    "      \"name\": \"thisYear\",\n",
    "      \"source\": \"gapminder\",\n",
    "      \"transform\": [\n",
    "        {\"type\": \"filter\", \"expr\": \"datum.year == currentYear\"}\n",
    "      ]\n",
    "    },\n",
    "    {\n",
    "      \"name\": \"prevYear\",\n",
    "      \"source\": \"gapminder\",\n",
    "      \"transform\": [\n",
    "        {\"type\": \"filter\", \"expr\": \"datum.year == currentYear - stepYear\"}\n",
    "      ]\n",
    "    },\n",
    "    {\n",
    "      \"name\": \"nextYear\",\n",
    "      \"source\": \"gapminder\",\n",
    "      \"transform\": [\n",
    "        {\"type\": \"filter\", \"expr\": \"datum.year == currentYear + stepYear\"}\n",
    "      ]\n",
    "    },\n",
    "    {\n",
    "      \"name\": \"countries\",\n",
    "      \"source\": \"gapminder\",\n",
    "      \"transform\": [\n",
    "        {\"type\": \"aggregate\", \"groupby\": [\"country\"]}\n",
    "      ]\n",
    "    },\n",
    "    {\n",
    "      \"name\": \"interpolate\",\n",
    "      \"source\": \"countries\",\n",
    "      \"transform\": [\n",
    "        {\n",
    "          \"type\": \"lookup\",\n",
    "          \"from\": \"thisYear\", \"key\": \"country\",\n",
    "          \"fields\": [\"country\"], \"as\": [\"this\"],\n",
    "          \"default\": {}\n",
    "        },\n",
    "        {\n",
    "          \"type\": \"lookup\",\n",
    "          \"from\": \"prevYear\", \"key\": \"country\",\n",
    "          \"fields\": [\"country\"], \"as\": [\"prev\"],\n",
    "          \"default\": {}\n",
    "        },\n",
    "        {\n",
    "          \"type\": \"lookup\",\n",
    "          \"from\": \"nextYear\", \"key\": \"country\",\n",
    "          \"fields\": [\"country\"], \"as\": [\"next\"],\n",
    "          \"default\": {}\n",
    "        },\n",
    "        {\n",
    "          \"type\": \"formula\",\n",
    "          \"as\": \"target_fertility\",\n",
    "          \"expr\": \"interYear > currentYear ? datum.next.fertility : (datum.prev.fertility||datum.this.fertility)\"\n",
    "        },\n",
    "        {\n",
    "          \"type\": \"formula\",\n",
    "          \"as\": \"target_life_expect\",\n",
    "          \"expr\": \"interYear > currentYear ? datum.next.life_expect : (datum.prev.life_expect||datum.this.life_expect)\"\n",
    "        },\n",
    "        {\n",
    "          \"type\": \"formula\",\n",
    "          \"as\": \"inter_fertility\",\n",
    "          \"expr\": \"interYear==2000 ? datum.this.fertility : datum.this.fertility + (datum.target_fertility-datum.this.fertility) * abs(interYear-datum.this.year)/5\"\n",
    "        },\n",
    "        {\n",
    "          \"type\": \"formula\",\n",
    "          \"as\": \"inter_life_expect\",\n",
    "          \"expr\": \"interYear==2000 ? datum.this.life_expect : datum.this.life_expect + (datum.target_life_expect-datum.this.life_expect) * abs(interYear-datum.this.year)/5\"\n",
    "        }\n",
    "      ]\n",
    "    },\n",
    "    {\n",
    "      \"name\": \"trackCountries\",\n",
    "      \"on\": [\n",
    "        {\"trigger\": \"active\", \"toggle\": \"{country: active.country}\"}\n",
    "      ]\n",
    "    }\n",
    "  ],\n",
    "\n",
    "  \"signals\": [\n",
    "    { \"name\": \"minYear\", \"value\": 1955 },\n",
    "    { \"name\": \"maxYear\", \"value\": 2005 },\n",
    "    { \"name\": \"stepYear\", \"value\": 5 },\n",
    "    {\n",
    "      \"name\": \"active\",\n",
    "      \"value\": {},\n",
    "      \"on\": [\n",
    "        {\"events\": \"@point:mousedown, @point:touchstart\", \"update\": \"datum\"},\n",
    "        {\"events\": \"window:mouseup, window:touchend\", \"update\": \"{}\"}\n",
    "      ]\n",
    "    },\n",
    "    { \"name\": \"isActive\", \"update\": \"active.country\" },\n",
    "    {\n",
    "      \"name\": \"timeline\",\n",
    "      \"value\": {},\n",
    "      \"on\": [\n",
    "        {\"events\": \"@point:mouseover\", \"update\": \"isActive ? active : datum\"},\n",
    "        {\"events\": \"@point:mouseout\", \"update\": \"active\"},\n",
    "        {\"events\": {\"signal\": \"active\"}, \"update\": \"active\"}\n",
    "      ]\n",
    "    },\n",
    "    {\n",
    "      \"name\": \"tX\",\n",
    "      \"on\": [{\n",
    "        \"events\": \"mousemove!, touchmove!\",\n",
    "        \"update\": \"isActive ? scale('x', active.this.fertility) : tX\"\n",
    "      }]\n",
    "    },\n",
    "    {\n",
    "      \"name\": \"tY\",\n",
    "      \"on\": [{\n",
    "        \"events\": \"mousemove, touchmove\",\n",
    "        \"update\": \"isActive ? scale('y', active.this.life_expect) : tY\"\n",
    "      }]\n",
    "    },\n",
    "    {\n",
    "      \"name\": \"pX\",\n",
    "      \"on\": [{\n",
    "        \"events\": \"mousemove, touchmove\",\n",
    "        \"update\": \"isActive ? scale('x', active.prev.fertility) : pX\"\n",
    "      }]\n",
    "    },\n",
    "    {\n",
    "      \"name\": \"pY\",\n",
    "      \"on\": [{\n",
    "        \"events\": \"mousemove, touchmove\",\n",
    "        \"update\": \"isActive ? scale('y', active.prev.life_expect) : pY\"\n",
    "      }]\n",
    "    },\n",
    "    {\n",
    "      \"name\": \"nX\",\n",
    "      \"on\": [{\n",
    "        \"events\": \"mousemove, touchmove\",\n",
    "        \"update\": \"isActive ? scale('x', active.next.fertility) : nX\"\n",
    "      }]\n",
    "    },\n",
    "    {\n",
    "      \"name\": \"nY\",\n",
    "      \"on\": [{\n",
    "        \"events\": \"mousemove, touchmove\",\n",
    "        \"update\": \"isActive ? scale('y', active.next.life_expect) : nY\"\n",
    "      }]\n",
    "    },\n",
    "    {\n",
    "      \"name\": \"thisDist\",\n",
    "      \"value\": 0,\n",
    "      \"on\":[{\n",
    "        \"events\": \"mousemove, touchmove\",\n",
    "        \"update\": \"isActive ? sqrt(pow(x()-tX, 2) + pow(y()-tY, 2)) : thisDist\"\n",
    "      }]\n",
    "    },\n",
    "    {\n",
    "      \"name\": \"prevDist\",\n",
    "      \"value\": 0,\n",
    "      \"on\":[{\n",
    "        \"events\": \"mousemove, touchmove\",\n",
    "        \"update\": \"isActive ? sqrt(pow(x()-pX, 2) + pow(y()-pY, 2)): prevDist\"\n",
    "      }]\n",
    "    },\n",
    "    {\n",
    "      \"name\": \"nextDist\",\n",
    "      \"value\": 0,\n",
    "      \"on\":[{\n",
    "        \"events\": \"mousemove, touchmove\",\n",
    "        \"update\": \"isActive ? sqrt(pow(x()-nX, 2) + pow(y()-nY, 2)) : nextDist\"\n",
    "      }]\n",
    "    },\n",
    "    {\n",
    "      \"name\": \"prevScore\",\n",
    "      \"value\": 0,\n",
    "      \"on\": [{\n",
    "        \"events\": \"mousemove, touchmove\",\n",
    "        \"update\": \"isActive ? ((pX-tX) * (x()-tX) + (pY-tY) * (y()-tY))/prevDist || -999999 : prevScore\"\n",
    "      }]\n",
    "    },\n",
    "    {\n",
    "      \"name\": \"nextScore\",\n",
    "      \"value\": 0,\n",
    "      \"on\": [{\n",
    "        \"events\": \"mousemove, touchmove\",\n",
    "        \"update\": \"isActive ? ((nX-tX) * (x()-tX) + (nY-tY) * (y()-tY))/nextDist || -999999 : nextScore\"\n",
    "      }]\n",
    "    },\n",
    "    {\n",
    "      \"name\": \"interYear\",\n",
    "      \"value\": 1980,\n",
    "      \"on\": [{\n",
    "        \"events\": \"mousemove, touchmove\",\n",
    "        \"update\": \"isActive ? (min(maxYear, currentYear+5, max(minYear, currentYear-5, prevScore > nextScore ? (currentYear - 2.5*prevScore/sqrt(pow(pX-tX, 2) + pow(pY-tY, 2))) : (currentYear + 2.5*nextScore/sqrt(pow(nX-tX, 2) + pow(nY-tY, 2)))))) : interYear\"\n",
    "      }]\n",
    "    },\n",
    "    {\n",
    "      \"name\": \"currentYear\",\n",
    "      \"value\": 1980,\n",
    "      \"on\":[{\n",
    "        \"events\": \"mousemove, touchmove\",\n",
    "        \"update\": \"isActive ? (min(maxYear, max(minYear, prevScore > nextScore ? (thisDist < prevDist ? currentYear : currentYear-5) : (thisDist < nextDist ? currentYear : currentYear+5)))) : currentYear\"\n",
    "      }]\n",
    "    }\n",
    "  ],\n",
    "\n",
    "  \"scales\": [\n",
    "    {\n",
    "      \"name\": \"x\",\n",
    "      \"type\": \"linear\", \"nice\": true,\n",
    "      \"domain\": {\"data\": \"gapminder\", \"field\": \"fertility\"},\n",
    "      \"range\": \"width\"\n",
    "    },\n",
    "    {\n",
    "      \"name\": \"y\",\n",
    "      \"type\": \"linear\", \"nice\": true, \"zero\": false,\n",
    "      \"domain\": {\"data\": \"gapminder\", \"field\": \"life_expect\"},\n",
    "      \"range\": \"height\"\n",
    "    },\n",
    "    {\n",
    "      \"name\": \"color\",\n",
    "      \"type\": \"ordinal\",\n",
    "      \"domain\": {\"data\": \"gapminder\", \"field\": \"cluster\"},\n",
    "      \"range\": \"category\"\n",
    "    },\n",
    "    {\n",
    "      \"name\": \"label\",\n",
    "      \"type\": \"ordinal\",\n",
    "      \"domain\": {\"data\": \"clusters\", \"field\": \"id\"},\n",
    "      \"range\": {\"data\": \"clusters\", \"field\": \"name\"}\n",
    "    }\n",
    "  ],\n",
    "\n",
    "  \"axes\": [\n",
    "    {\n",
    "      \"title\": \"Fertility\",\n",
    "      \"orient\": \"bottom\", \"scale\": \"x\",\n",
    "      \"grid\": true, \"tickCount\": 5\n",
    "    },\n",
    "    {\n",
    "      \"title\": \"Life Expectancy\",\n",
    "      \"orient\": \"left\", \"scale\": \"y\",\n",
    "      \"grid\": true, \"tickCount\": 5\n",
    "    }\n",
    "  ],\n",
    "\n",
    "  \"legends\": [\n",
    "    {\n",
    "      \"fill\": \"color\",\n",
    "      \"title\": \"Region\",\n",
    "      \"orient\": \"right\",\n",
    "      \"encode\": {\n",
    "        \"symbols\": {\n",
    "          \"enter\": {\n",
    "            \"fillOpacity\": {\"value\": 0.5}\n",
    "          }\n",
    "        },\n",
    "        \"labels\": {\n",
    "          \"enter\": {\n",
    "            \"text\": {\"scale\": \"label\", \"field\": \"value\"}\n",
    "          }\n",
    "        }\n",
    "      }\n",
    "    }\n",
    "  ],\n",
    "\n",
    "  \"marks\": [\n",
    "    {\n",
    "      \"type\": \"text\",\n",
    "      \"encode\": {\n",
    "        \"update\": {\n",
    "          \"text\": {\"signal\": \"currentYear\"},\n",
    "          \"x\": {\"value\": 300},\n",
    "          \"y\": {\"value\": 300},\n",
    "          \"fill\": {\"value\": \"grey\"},\n",
    "          \"fillOpacity\": {\"value\": 0.25},\n",
    "          \"fontSize\": {\"value\": 100}\n",
    "        }\n",
    "      }\n",
    "    },\n",
    "    {\n",
    "      \"type\": \"text\",\n",
    "      \"from\": {\"data\": \"country_timeline\"},\n",
    "      \"interactive\": false,\n",
    "      \"encode\": {\n",
    "        \"enter\": {\n",
    "          \"x\": {\"scale\": \"x\", \"field\": \"fertility\", \"offset\": 5},\n",
    "          \"y\": {\"scale\": \"y\", \"field\": \"life_expect\"},\n",
    "          \"fill\": {\"value\": \"#555\"},\n",
    "          \"fillOpacity\": {\"value\": 0.6},\n",
    "          \"text\": {\"field\": \"year\"}\n",
    "        }\n",
    "      }\n",
    "    },\n",
    "    {\n",
    "      \"type\": \"line\",\n",
    "      \"from\": {\"data\": \"country_timeline\"},\n",
    "      \"encode\": {\n",
    "        \"update\": {\n",
    "          \"x\": {\"scale\": \"x\", \"field\": \"fertility\"},\n",
    "          \"y\": {\"scale\": \"y\", \"field\": \"life_expect\"},\n",
    "          \"stroke\": {\"value\": \"#bbb\"},\n",
    "          \"strokeWidth\": {\"value\": 5},\n",
    "          \"strokeOpacity\": {\"value\": 0.5}\n",
    "        }\n",
    "      }\n",
    "    },\n",
    "    {\n",
    "      \"name\": \"point\",\n",
    "      \"type\": \"symbol\",\n",
    "      \"from\": {\"data\": \"interpolate\"},\n",
    "      \"encode\": {\n",
    "        \"enter\": {\n",
    "          \"fill\": {\"scale\": \"color\", \"field\": \"this.cluster\"},\n",
    "          \"size\": {\"value\": 150}\n",
    "        },\n",
    "        \"update\": {\n",
    "          \"x\": {\"scale\": \"x\", \"field\": \"inter_fertility\"},\n",
    "          \"y\": {\"scale\": \"y\", \"field\": \"inter_life_expect\"},\n",
    "          \"fillOpacity\": [\n",
    "            {\n",
    "              \"test\": \"datum.country==timeline.country || indata('trackCountries', 'country', datum.country)\",\n",
    "              \"value\": 1\n",
    "            },\n",
    "            {\"value\": 0.5}\n",
    "          ]\n",
    "        }\n",
    "      }\n",
    "    },\n",
    "    {\n",
    "      \"type\": \"text\",\n",
    "      \"from\": {\"data\": \"interpolate\"},\n",
    "      \"interactive\": false,\n",
    "      \"encode\": {\n",
    "        \"enter\": {\n",
    "          \"fill\": {\"value\": \"#333\"},\n",
    "          \"fontSize\": {\"value\": 14},\n",
    "          \"fontWeight\": {\"value\": \"bold\"},\n",
    "          \"text\": {\"field\": \"country\"},\n",
    "          \"align\": {\"value\": \"center\"},\n",
    "          \"baseline\": {\"value\": \"bottom\"}\n",
    "        },\n",
    "        \"update\": {\n",
    "          \"x\": {\"scale\": \"x\", \"field\": \"inter_fertility\"},\n",
    "          \"y\": {\"scale\": \"y\", \"field\": \"inter_life_expect\", \"offset\": -7},\n",
    "          \"fillOpacity\": [\n",
    "            {\n",
    "              \"test\": \"datum.country==timeline.country || indata('trackCountries', 'country', datum.country)\",\n",
    "              \"value\": 0.8\n",
    "            },\n",
    "            {\"value\": 0}\n",
    "          ]\n",
    "        }\n",
    "      }\n",
    "    }\n",
    "  ]\n",
    "});\n",
    "var view = new vega.View(runtimeSpec)\n",
    "  .initialize(document.querySelector('#view'))\n",
    "  .renderer('svg')\n",
    "  .hover()\n",
    "  .run();\n",
    "    </script>\n",
    "  </body>\n",
    "</html>"
   ]
  },
  {
   "cell_type": "code",
   "execution_count": 30,
   "metadata": {},
   "outputs": [
    {
     "data": {
      "text/html": [
       "\n",
       "        <iframe\n",
       "            width=\"1030\"\n",
       "            height=\"830\"\n",
       "            src=\"files/__tmp12660_4.html\"\n",
       "            frameborder=\"0\"\n",
       "            allowfullscreen\n",
       "        ></iframe>\n",
       "        "
      ],
      "text/plain": [
       "<IPython.lib.display.IFrame at 0x5e358d0>"
      ]
     },
     "execution_count": 30,
     "metadata": {},
     "output_type": "execute_result"
    }
   ],
   "source": [
    "f1(w=1000,h=800)"
   ]
  },
  {
   "cell_type": "code",
   "execution_count": 31,
   "metadata": {},
   "outputs": [
    {
     "name": "stdout",
     "output_type": "stream",
     "text": [
      "__tmp12660_1.html\n",
      "__tmp12660_2.html\n",
      "__tmp12660_3.html\n",
      "__tmp12660_4.html\n"
     ]
    }
   ],
   "source": [
    "import glob, os\n",
    "for f in glob.glob(\"__tmp*.html\"):\n",
    "    print(f)\n",
    "    os.remove(f)"
   ]
  },
  {
   "cell_type": "code",
   "execution_count": null,
   "metadata": {
    "collapsed": true
   },
   "outputs": [],
   "source": []
  }
 ],
 "metadata": {
  "kernelspec": {
   "display_name": "Python 3",
   "language": "python",
   "name": "python3"
  },
  "language_info": {
   "codemirror_mode": {
    "name": "ipython",
    "version": 3
   },
   "file_extension": ".py",
   "mimetype": "text/x-python",
   "name": "python",
   "nbconvert_exporter": "python",
   "pygments_lexer": "ipython3",
   "version": "3.6.1"
  }
 },
 "nbformat": 4,
 "nbformat_minor": 2
}
